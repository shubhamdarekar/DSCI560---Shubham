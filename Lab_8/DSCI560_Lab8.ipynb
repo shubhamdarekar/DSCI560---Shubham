{
  "cells": [
    {
      "cell_type": "markdown",
      "metadata": {
        "id": "5gzCCHOi7JOv"
      },
      "source": [
        "## Reading the secrets and importing the requirements"
      ]
    },
    {
      "cell_type": "code",
      "execution_count": 1,
      "metadata": {
        "id": "2NH9RoH37JOy",
        "outputId": "3798e8cc-1d91-4978-c300-b565b777250b"
      },
      "outputs": [],
      "source": [
        "from secrets_import import * # check the secrets_import file for details"
      ]
    },
    {
      "cell_type": "code",
      "execution_count": 2,
      "metadata": {
        "id": "QyNPvyj-7JO0",
        "outputId": "b036818e-db9a-44da-9742-52a887ce5f64"
      },
      "outputs": [
        {
          "name": "stderr",
          "output_type": "stream",
          "text": [
            "[nltk_data] Downloading package stopwords to\n",
            "[nltk_data]     C:\\Users\\shubh\\AppData\\Roaming\\nltk_data...\n",
            "[nltk_data]   Package stopwords is already up-to-date!\n",
            "[nltk_data] Downloading package punkt to\n",
            "[nltk_data]     C:\\Users\\shubh\\AppData\\Roaming\\nltk_data...\n",
            "[nltk_data]   Package punkt is already up-to-date!\n",
            "[nltk_data] Downloading package punkt_tab to\n",
            "[nltk_data]     C:\\Users\\shubh\\AppData\\Roaming\\nltk_data...\n",
            "[nltk_data]   Package punkt_tab is already up-to-date!\n"
          ]
        }
      ],
      "source": [
        "from config_setup_helper import * # check the config_setup file for details"
      ]
    },
    {
      "cell_type": "code",
      "execution_count": 3,
      "metadata": {
        "id": "JRG4vIfl7JO0"
      },
      "outputs": [],
      "source": [
        "import time\n",
        "from datetime import datetime,UTC\n",
        "from bs4 import BeautifulSoup\n",
        "import re\n",
        "import pytesseract\n",
        "from PIL import Image\n",
        "import requests\n",
        "from nltk.tokenize import word_tokenize\n",
        "from nltk.corpus import stopwords\n",
        "\n",
        "from gensim.models.doc2vec import Doc2Vec, TaggedDocument, Word2Vec\n",
        "import pymysql\n",
        "import numpy as np"
      ]
    },
    {
      "cell_type": "markdown",
      "metadata": {
        "id": "KbGm4d_57JO1"
      },
      "source": [
        "## Scraping and cleaning helpers"
      ]
    },
    {
      "cell_type": "code",
      "execution_count": 4,
      "metadata": {
        "id": "zUpjbIZgCGwc"
      },
      "outputs": [],
      "source": [
        "# Load stopwords for keyword extraction\n",
        "stop_words = set(stopwords.words('english'))\n",
        "\n",
        "def clean_text(text):\n",
        "    \"\"\"Remove HTML, special characters, ads, and extra spaces.\"\"\"\n",
        "    if not text:\n",
        "        return \"\"  # Handle empty text cases\n",
        "\n",
        "    # Remove HTML tags\n",
        "    text = BeautifulSoup(text, \"html.parser\").get_text()\n",
        "\n",
        "    # Remove special characters, links, and promoted messages\n",
        "    text = re.sub(r'http\\S+|www\\S+', '', text)  # Remove URLs\n",
        "    text = re.sub(r'\\W+', ' ', text)  # Remove special characters\n",
        "    text = text.lower().strip()  # Convert to lowercase\n",
        "\n",
        "    # Mask usernames\n",
        "    text = re.sub(r'u/[A-Za-z0-9_-]+', '[USERNAME]', text)\n",
        "\n",
        "    # remove stopwords\n",
        "    words = word_tokenize(text)\n",
        "    filtered_words = [word for word in words if word not in stop_words]\n",
        "    text = ' '.join(filtered_words)\n",
        "\n",
        "    return text\n",
        "\n",
        "def extract_keywords(text):\n",
        "    \"\"\"Extract important keywords from the post content.\"\"\"\n",
        "    words = word_tokenize(text)\n",
        "    keywords = [word for word in words if word.isalnum() and word not in stop_words]\n",
        "    return ', '.join(set(keywords))  # Convert list to string for storage\n",
        "\n",
        "def extract_text_from_images(image_url):\n",
        "    \"\"\"Extract text from images using OCR (Pytesseract).\"\"\"\n",
        "    try:\n",
        "        # Download the image (placeholder, needs proper downloading logic)\n",
        "        requests.get(image_url, stream=True).raw\n",
        "        image = Image.open(requests.get(image_url, stream=True).raw)  # This assumes the image is already downloaded\n",
        "        text = pytesseract.image_to_string(image)\n",
        "        return clean_text(text)\n",
        "    except Exception as e:\n",
        "        print(f\"Could not process image {image_url}: {e}\")\n",
        "        return \"\"\n"
      ]
    },
    {
      "cell_type": "markdown",
      "metadata": {
        "id": "1We58Lis7JO2"
      },
      "source": [
        "## Code to pull and save the posts in DB"
      ]
    },
    {
      "cell_type": "code",
      "execution_count": 5,
      "metadata": {
        "id": "m3wCCq4g7JO2"
      },
      "outputs": [],
      "source": [
        "def fetch_and_store_reddit_posts(subreddit_name, n_posts):\n",
        "    \"\"\"Fetch, preprocess, and store Reddit posts while handling large requests.\"\"\"\n",
        "    setup_database()\n",
        "\n",
        "    subreddit = reddit.subreddit(subreddit_name)\n",
        "    batch_size = 1000  # Max Reddit API limit per request\n",
        "    fetched_posts = 0\n",
        "    conn = pymysql.connect(host=MYSQL_HOST, user=MYSQL_USER, password=MYSQL_PASSWORD, database = MYSQL_DB)\n",
        "    cursor = conn.cursor()\n",
        "\n",
        "    while fetched_posts < n_posts:\n",
        "        limit = min(batch_size, n_posts - fetched_posts)\n",
        "\n",
        "        print(f\"Fetching {limit} posts...\")\n",
        "\n",
        "        try:\n",
        "            for post in subreddit.hot(limit=limit):\n",
        "                title = post.title\n",
        "                content = clean_text(post.selftext)\n",
        "\n",
        "                timestamp = datetime.fromtimestamp(post.created_utc, UTC)\n",
        "\n",
        "                image_text = \"\"\n",
        "                if hasattr(post, \"preview\") and \"images\" in post.preview:\n",
        "                    image_url = post.preview[\"images\"][0][\"source\"][\"url\"]\n",
        "                    image_text = extract_text_from_images(image_url)\n",
        "\n",
        "\n",
        "                if not content and not image_text:\n",
        "                    continue\n",
        "\n",
        "                keywords = extract_keywords(title+\" \"+content+\" \"+image_text)  # Extract keywords\n",
        "\n",
        "                # Store in MySQL\n",
        "                sql = \"INSERT INTO posts (title, content, timestamp, subreddit, keywords, image_text) VALUES (%s, %s, %s, %s, %s, %s)\"\n",
        "                cursor.execute(sql, (title, content, timestamp, subreddit_name, keywords, image_text))\n",
        "\n",
        "                fetched_posts += 1\n",
        "                if fetched_posts >= n_posts:\n",
        "                    break  # Stop when we reach desired count\n",
        "\n",
        "            conn.commit()\n",
        "            print(f\"Stored {fetched_posts} posts so far.\")\n",
        "\n",
        "        except Exception as e:\n",
        "            print(f\"Error fetching posts: {e}\")\n",
        "            time.sleep(5)  # Retry after a short delay\n",
        "\n",
        "        time.sleep(2)  # Avoid rate limits\n",
        "\n",
        "    print(f\"Successfully stored {fetched_posts} posts.\")\n",
        "    conn.close()"
      ]
    },
    {
      "cell_type": "markdown",
      "metadata": {
        "id": "aQlotM597JO2"
      },
      "source": [
        "### Calling the function (run all above cells first)"
      ]
    },
    {
      "cell_type": "code",
      "execution_count": null,
      "metadata": {
        "id": "eCJZjwQe7JO3",
        "outputId": "1a390ae6-2ae1-4b88-c26c-84b1746c9653"
      },
      "outputs": [],
      "source": [
        "if __name__ == \"__main__\":\n",
        "    fetch_and_store_reddit_posts(\"askscience\", 20)"
      ]
    },
    {
      "cell_type": "markdown",
      "metadata": {
        "id": "1fC47r0OEBaJ"
      },
      "source": [
        "## Part A: Generating Embeddings\n",
        "\n",
        "#### Using both doc2vec and word2 vec to generate 2 seperate embeddings"
      ]
    },
    {
      "cell_type": "code",
      "execution_count": 6,
      "metadata": {
        "colab": {
          "base_uri": "https://localhost:8080/"
        },
        "id": "w5AE13jSEHT4",
        "outputId": "272a4f08-9f57-4efa-d240-f6c176773184"
      },
      "outputs": [],
      "source": [
        "def get_all_posts():\n",
        "    conn = pymysql.connect(host=MYSQL_HOST, user=MYSQL_USER, password=MYSQL_PASSWORD, db=MYSQL_DB)\n",
        "    cursor = conn.cursor()\n",
        "    cursor.execute(\"SELECT id, title, content, image_text FROM posts\")\n",
        "    posts =  cursor.fetchall()\n",
        "    conn.close()\n",
        "    return posts"
      ]
    },
    {
      "cell_type": "markdown",
      "metadata": {
        "id": "qrbgGzkY7JO3"
      },
      "source": [
        "### Embeddings based on Doc2Vec"
      ]
    },
    {
      "cell_type": "code",
      "execution_count": 28,
      "metadata": {
        "id": "OSutJ1ae7JO4"
      },
      "outputs": [],
      "source": [
        "def doc2Vec_embeddings(posts):\n",
        "    tagged_data = [\n",
        "        TaggedDocument(\n",
        "            words=word_tokenize(clean_text(\" \".join([str(x).lower() for x in row[1:]]))),\n",
        "            tags=[str(row[0])]\n",
        "        )\n",
        "        for row in posts\n",
        "    ]\n",
        "\n",
        "    model_doc = Doc2Vec(vector_size=20, window=2, min_count=1, workers=4, epochs=20)\n",
        "    model_doc.build_vocab(tagged_data)\n",
        "\n",
        "    model_doc.train(tagged_data, total_examples=model_doc.corpus_count, epochs=model_doc.epochs)\n",
        "\n",
        "    vectors_doc = []\n",
        "    for row in posts:\n",
        "        vectors_doc.append(model_doc.infer_vector(word_tokenize(clean_text(\" \".join([str(x).lower() for x in row[1:]])))))\n",
        "\n",
        "def doc2Vec_experiment(posts, vector_size, epochs, min_count):\n",
        "    tagged_data = [\n",
        "        TaggedDocument(\n",
        "            words=word_tokenize(clean_text(\" \".join([str(x).lower() for x in row[1:]]))),\n",
        "            tags=[str(row[0])]\n",
        "        )\n",
        "        for row in posts\n",
        "    ]\n",
        "\n",
        "    model_doc = Doc2Vec(vector_size=vector_size, window=5, min_count=min_count, workers=4, epochs=epochs)\n",
        "    model_doc.build_vocab(tagged_data)\n",
        "\n",
        "    model_doc.train(tagged_data, total_examples=model_doc.corpus_count, epochs=model_doc.epochs)\n",
        "\n",
        "    return model_doc\n",
        "\n",
        "posts = get_all_posts()\n",
        "\n",
        "model1 = doc2Vec_experiment(posts, vector_size=50, epochs=20, min_count=2)\n",
        "model2 = doc2Vec_experiment(posts, vector_size=100, epochs=30, min_count=5)\n",
        "model3 = doc2Vec_experiment(posts, vector_size=200, epochs=40, min_count=10)"
      ]
    },
    {
      "cell_type": "markdown",
      "metadata": {
        "id": "IipQtwkS7JO4"
      },
      "source": [
        "### Embeddings based on Word2Vec and Bag-of-Words"
      ]
    },
    {
      "cell_type": "code",
      "execution_count": 9,
      "metadata": {
        "id": "bQqNd5X_7JO4"
      },
      "outputs": [],
      "source": [
        "def word2Vec_embeddings(posts):\n",
        "    tokenized_posts = [word_tokenize(clean_text(\" \".join([str(x).lower() for x in row[1:]]))) for row in posts]\n",
        "    model = Word2Vec(sentences=tokenized_posts, vector_size=100, window=5, min_count=1, workers=4, epochs=20)\n",
        "\n",
        "def word2vec_training(posts, vector_size=100):\n",
        "    sentences = [word_tokenize(clean_text(\" \".join([str(x).lower() for x in row[1:]]))) for row in posts]\n",
        "    model_word = Word2Vec(sentences, vector_size=vector_size, window=5, min_count=2, workers=4)\n",
        "    return model_word\n",
        "\n",
        "model_word = word2vec_training(posts, vector_size=100)"
      ]
    },
    {
      "cell_type": "code",
      "execution_count": 24,
      "metadata": {
        "id": "m4VRTLvV7JO4"
      },
      "outputs": [],
      "source": [
        "from sklearn.cluster import KMeans\n",
        "\n",
        "def cluster_words(model_word, k=10):\n",
        "    word_vectors = model_word.wv.vectors\n",
        "    kmeans = KMeans(n_clusters=k, random_state=42)\n",
        "    kmeans.fit(word_vectors.astype(np.float64))\n",
        "\n",
        "    word_clusters = {word: kmeans.predict([model_word.wv[word]])[0] for word in model_word.wv.index_to_key}\n",
        "    return word_clusters\n",
        "\n",
        "word_bins = cluster_words(model_word, k=10)"
      ]
    },
    {
      "cell_type": "markdown",
      "metadata": {
        "id": "VDZhaJq4ESsG"
      },
      "source": [
        "## PartB: KMeans to cluster the data"
      ]
    },
    {
      "cell_type": "code",
      "execution_count": 36,
      "metadata": {
        "id": "-4oCZ58k7JO5"
      },
      "outputs": [],
      "source": [
        "from sklearn.cluster import KMeans\n",
        "from sklearn.metrics.pairwise import cosine_similarity\n",
        "import numpy as np\n",
        "\n",
        "def cluster_documents(vectors, n_clusters=5):\n",
        "    kmeans = KMeans(n_clusters=n_clusters, random_state=42)\n",
        "    labels = kmeans.fit_predict(vectors)\n",
        "    return labels\n",
        "\n",
        "labels_doc2vec = cluster_documents([model1.infer_vector([str(x).lower() for x in doc[1:]]) for doc in posts])\n",
        "labels_word2vec = cluster_documents([model_word.wv[doc[0]] for doc in posts if doc[0] in model_word.wv])"
      ]
    },
    {
      "cell_type": "code",
      "execution_count": 38,
      "metadata": {
        "id": "dNZPmNLvELNO"
      },
      "outputs": [
        {
          "ename": "TypeError",
          "evalue": "cannot unpack non-iterable numpy.int32 object",
          "output_type": "error",
          "traceback": [
            "\u001b[31m---------------------------------------------------------------------------\u001b[39m",
            "\u001b[31mTypeError\u001b[39m                                 Traceback (most recent call last)",
            "\u001b[36mCell\u001b[39m\u001b[36m \u001b[39m\u001b[32mIn[38]\u001b[39m\u001b[32m, line 18\u001b[39m\n\u001b[32m     15\u001b[39m     conn.commit()\n\u001b[32m     16\u001b[39m     conn.close()\n\u001b[32m---> \u001b[39m\u001b[32m18\u001b[39m \u001b[43mstore_cluster_labels\u001b[49m\u001b[43m(\u001b[49m\u001b[43mlabels_doc2vec\u001b[49m\u001b[43m,\u001b[49m\u001b[43mlabels_word2vec\u001b[49m\u001b[43m)\u001b[49m\n",
            "\u001b[36mCell\u001b[39m\u001b[36m \u001b[39m\u001b[32mIn[38]\u001b[39m\u001b[32m, line 7\u001b[39m, in \u001b[36mstore_cluster_labels\u001b[39m\u001b[34m(labeled_cluster_doc, labeled_cluster_word)\u001b[39m\n\u001b[32m      4\u001b[39m cursor = conn.cursor()\n\u001b[32m      6\u001b[39m \u001b[38;5;28;01mfor\u001b[39;00m i \u001b[38;5;129;01min\u001b[39;00m \u001b[38;5;28mrange\u001b[39m(\u001b[38;5;28mlen\u001b[39m(labeled_cluster_doc)):\n\u001b[32m----> \u001b[39m\u001b[32m7\u001b[39m     post_id, cluster_id_doc = labeled_cluster_doc[i]\n\u001b[32m      8\u001b[39m     post_id_word, cluster_id_word = labeled_cluster_word[i]\n\u001b[32m     10\u001b[39m     \u001b[38;5;28;01mif\u001b[39;00m post_id != post_id_word:\n",
            "\u001b[31mTypeError\u001b[39m: cannot unpack non-iterable numpy.int32 object"
          ]
        }
      ],
      "source": [
        "# Store cluster labels in MySQL\n",
        "def store_cluster_labels(labeled_cluster_doc,labeled_cluster_word):\n",
        "    conn = pymysql.connect(host=MYSQL_HOST, user=MYSQL_USER, password=MYSQL_PASSWORD, db=MYSQL_DB)\n",
        "    cursor = conn.cursor()\n",
        "\n",
        "    for i in range(len(labeled_cluster_doc)):\n",
        "        post_id, cluster_id_doc = labeled_cluster_doc[i]\n",
        "        post_id_word, cluster_id_word = labeled_cluster_word[i]\n",
        "\n",
        "        if post_id != post_id_word:\n",
        "            raise ValueError(\"Post IDs do not match between the two clustering results.\")\n",
        "\n",
        "        cursor.execute(\"UPDATE posts SET cluster_id_doc=%s, cluster_id=%s WHERE id=%s\", (cluster_id_doc, cluster_id_word, post_id))\n",
        "\n",
        "    conn.commit()\n",
        "    conn.close()\n",
        "\n",
        "store_cluster_labels(labels_doc2vec,labels_word2vec)"
      ]
    },
    {
      "cell_type": "code",
      "execution_count": null,
      "metadata": {
        "id": "epLWJ2M5EUHD"
      },
      "outputs": [],
      "source": [
        "from collections import Counter\n",
        "\n",
        "def get_all_posts():\n",
        "    conn = pymysql.connect(host=MYSQL_HOST, user=MYSQL_USER, password=MYSQL_PASSWORD, db=MYSQL_DB)\n",
        "    cursor = conn.cursor()\n",
        "    cursor.execute(\"SELECT id, title, content, image_text,cluster_id,cluster_id_doc FROM posts\")\n",
        "    posts =  cursor.fetchall()\n",
        "    conn.close()\n",
        "    return posts\n",
        "\n",
        "\n",
        "def organize_by_clusters(post):\n",
        "    cluster_dict_word = {}\n",
        "    cluster_dict_doc = {}\n",
        "    for row in posts:\n",
        "        cluster_id_word = row[-2]\n",
        "        cluster_id_doc = row[-1]\n",
        "\n",
        "        if cluster_id_word not in cluster_dict_word:\n",
        "            cluster_dict_word[cluster_id_word] = []\n",
        "        cluster_dict_word[cluster_id_word].append(row)\n",
        "\n",
        "        if cluster_id_doc not in cluster_dict_doc:\n",
        "            cluster_dict_doc[cluster_id_doc] = []\n",
        "        cluster_dict_doc[cluster_id_doc].append(row)\n",
        "    return cluster_dict_doc,cluster_dict_word\n",
        "\n",
        "posts= get_all_posts()\n",
        "cluster_dict_doc,cluster_dict_word = organize_by_clusters(posts)\n",
        "\n",
        "\n",
        "\n",
        "def extract_keywords(texts):\n",
        "\n",
        "    all_words = \" \".join(texts)\n",
        "    all_words = clean_text(all_words).split()\n",
        "    word_counts = Counter(all_words)\n",
        "    return \", \".join([word for word, _ in word_counts.most_common(10)])  # Top 5 keywords ## TODO: Change this strategy, remove stopword\n",
        "\n",
        "cluster_keywords_word = {cluster_id: extract_keywords([row[1] +\" \"+ row[2] +\" \"+ row[3] for row in contents]) for cluster_id, contents in cluster_dict_word.items()}\n",
        "cluster_keywords_doc = {cluster_id: extract_keywords([row[1] +\" \"+ row[2] +\" \"+ row[3] for row in contents]) for cluster_id, contents in cluster_dict_doc.items()}\n",
        "\n"
      ]
    },
    {
      "cell_type": "code",
      "execution_count": null,
      "metadata": {
        "id": "jCf3J1Vw7JO5",
        "outputId": "34efe331-2690-4fa1-9000-aaec7abf7a7b"
      },
      "outputs": [
        {
          "name": "stdout",
          "output_type": "stream",
          "text": [
            "Keywords by cluster using Word to vec\n",
            "{0: 'amputated, happens, limb, gets, could, understand, people, got, leg, '\n",
            "    'curious',\n",
            " 1: 'get, rabies, oldest, could, species, permafrost, around, exposure, '\n",
            "    'vaccines, years',\n",
            " 2: 'field, panel, panelist, comments, askscience, application, please, post, '\n",
            "    'one, expertise',\n",
            " 3: 'would, core, ask, earth, understand, alleles, gene, know, life, like',\n",
            " 4: 'cookware, would, water, small, pot, also, energy, steam, dinosaurs, '\n",
            "    'survived'}\n",
            "Keywords by cluster using Doc to vec\n",
            "{0: 'life, earth, would, evolve, breathe, oxygen, air, nitrogen, core, metal',\n",
            " 1: 'field, panel, panelist, comments, askscience, application, please, post, '\n",
            "    'one, expertise',\n",
            " 2: 'would, understand, alleles, gene, human, genes, foxp2, nf, 1, language',\n",
            " 3: 'core, inner, cookware, get, rabies, know, could, water, also, small',\n",
            " 4: 'ask, question, questions, anything, askscience, post, please, wednesday, '\n",
            "    'r, answer'}\n"
          ]
        }
      ],
      "source": [
        "import pprint\n",
        "print(\"Keywords by cluster using Word to vec\")\n",
        "pprint.pprint(cluster_keywords_word)\n",
        "print(\"Keywords by cluster using Doc to vec\")\n",
        "pprint.pprint(cluster_keywords_doc)"
      ]
    },
    {
      "cell_type": "code",
      "execution_count": null,
      "metadata": {
        "colab": {
          "base_uri": "https://localhost:8080/",
          "height": 564
        },
        "id": "grjmza7zEYsc",
        "outputId": "94dea646-e4de-4646-d300-b32b41b242b9"
      },
      "outputs": [
        {
          "data": {
            "image/png": "[encoded data removed]",
            "text/plain": [
              "<Figure size 800x600 with 2 Axes>"
            ]
          },
          "metadata": {},
          "output_type": "display_data"
        },
        {
          "data": {
            "image/png": "[encoded data removed]",
            "text/plain": [
              "<Figure size 800x600 with 2 Axes>"
            ]
          },
          "metadata": {},
          "output_type": "display_data"
        }
      ],
      "source": [
        "import matplotlib.pyplot as plt\n",
        "from sklearn.decomposition import PCA\n",
        "\n",
        "def plot_clusters(vectors, labels, title):\n",
        "    pca = PCA(n_components=2)\n",
        "    reduced_vectors = pca.fit_transform(vectors)\n",
        "\n",
        "    plt.figure(figsize=(8,6))\n",
        "    plt.scatter(reduced_vectors[:, 0], reduced_vectors[:, 1], c=labels, cmap='viridis', alpha=0.7)\n",
        "    plt.title(title)\n",
        "    plt.xlabel(\"PCA Component 1\")\n",
        "    plt.ylabel(\"PCA Component 2\")\n",
        "    plt.colorbar(label=\"Cluster ID\")\n",
        "    plt.show()\n",
        "\n",
        "plot_clusters(vectors_doc, cluster_doc, \"K-Means Clustering of Reddit Posts with Doc2Vec\")\n",
        "plot_clusters(vectors_word, cluster_word, \"K-Means Clustering of Reddit Posts with Word2Vec\")"
      ]
    },
    {
      "cell_type": "code",
      "execution_count": null,
      "metadata": {
        "id": "Fd3nZfcY7JO6",
        "outputId": "92543751-4d47-484c-efb9-359380a22e17"
      },
      "outputs": [
        {
          "name": "stdout",
          "output_type": "stream",
          "text": [
            "\n",
            "\n",
            "What is the difference between a virus and a bacteria?\n",
            "Predicted cluster (doc2vec): 0\n",
            "Predicted cluster (word2vec): 4\n",
            "\n",
            "\n",
            "Dinasours are very old\n",
            "Predicted cluster (doc2vec): 0\n",
            "Predicted cluster (word2vec): 4\n"
          ]
        }
      ],
      "source": [
        "#  code to predict cluster of a new text with both methods\n",
        "def predict_cluster(text, model_doc, model_word, kmeans_doc, kmeans_word):\n",
        "    text = clean_text(text)\n",
        "\n",
        "    # Infer vector using Doc2Vec model\n",
        "    vector_doc = model_doc.infer_vector(word_tokenize(text))\n",
        "\n",
        "    # Calculate mean vector using Word2Vec model\n",
        "    word_vectors = [model_word.wv[word] for word in word_tokenize(text) if word in model_word.wv]\n",
        "    if word_vectors:\n",
        "        vector_word = np.mean(word_vectors, axis=0)\n",
        "    else:\n",
        "        vector_word = np.zeros(model_word.vector_size)\n",
        "\n",
        "    # Ensure vectors are in the correct format and data type\n",
        "    vector_doc = np.array(vector_doc, dtype=np.float32)\n",
        "    vector_word = np.array(vector_word, dtype=np.float32)\n",
        "\n",
        "    # Predict clusters\n",
        "    cluster_doc = kmeans_doc.predict(vector_doc.reshape(1, -1))[0]\n",
        "    cluster_word = kmeans_word.predict(vector_word.reshape(1, -1))[0]\n",
        "\n",
        "    return cluster_doc, cluster_word\n",
        "\n",
        "if __name__ == \"__main__\":\n",
        "\n",
        "    text = \"What is the difference between a virus and a bacteria?\"\n",
        "    print(\"\\n\")\n",
        "    print(text)\n",
        "    cluster_doc, cluster_word = predict_cluster(text, model_doc, model_word, kmeans_doc, kmeans_word)\n",
        "    print(f\"Predicted cluster (doc2vec): {cluster_doc}\")\n",
        "    print(f\"Predicted cluster (word2vec): {cluster_word}\")\n",
        "\n",
        "    text2 = \"Dinasours are very old\"\n",
        "    print(\"\\n\")\n",
        "\n",
        "    print(text2)\n",
        "    cluster_doc, cluster_word = predict_cluster(text2, model_doc, model_word, kmeans_doc, kmeans_word)\n",
        "    print(f\"Predicted cluster (doc2vec): {cluster_doc}\")\n",
        "    print(f\"Predicted cluster (word2vec): {cluster_word}\")"
      ]
    },
    {
      "cell_type": "code",
      "execution_count": null,
      "metadata": {
        "id": "xUhBkQwQ7JO6"
      },
      "outputs": [],
      "source": [
        "def predict_similar_posts(text, model_doc, model_word, kmeans_doc, kmeans_word, posts):\n",
        "    cluster_doc, cluster_word = predict_cluster(text, model_doc, model_word, kmeans_doc, kmeans_word)\n",
        "\n",
        "    similar_posts_doc = [post for post in posts if post[-1] == cluster_doc]\n",
        "    similar_posts_word = [post for post in posts if post[-2] == cluster_word]\n",
        "\n",
        "    return similar_posts_doc, similar_posts_word"
      ]
    },
    {
      "cell_type": "markdown",
      "metadata": {
        "id": "iimRj_Q67Lzo"
      },
      "source": [
        "Evaluation metrics (quantitave and qualitative) to make comparisions:\n",
        "\n",
        "NOTE: in report we should mention these below + manually inspect the clusters by checking if grouped documents are thematically similar and use that for the qualitative part too, and write an explanation of which method created more meaningful clusters.\n",
        "\n",
        "Cluster Separation\n",
        "Good clustering: Well-separated, distinct clusters with clear boundaries.\n",
        "Poor clustering: Overlapping or mixed clusters (indicates embeddings may not capture differences well).\n",
        "Cluster Shape & Compactness\n",
        "Tightly packed clusters: Indicate strong embedding quality.\n",
        "Scattered, stretched, or elongated clusters: Suggest embeddings may not be well-formed.\n",
        "Outliers\n",
        "Isolated points far from any cluster may indicate noisy or misclassified data.\n",
        "Comparison Between Doc2Vec & Word2Vec\n",
        "Which method produces better-separated clusters?\n",
        "Does one have less overlap and more distinct groups?"
      ]
    },
    {
      "cell_type": "code",
      "execution_count": null,
      "metadata": {
        "id": "c7PkFKfW7Sdq"
      },
      "outputs": [],
      "source": [
        "#quantitative: silhouette score\n",
        "#measures how well samples are clustered (higher is better)\n",
        "\n",
        "from sklearn.metrics import silhouette_score\n",
        "\n",
        "# Silhouette Score for Doc2Vec clusters\n",
        "doc2vec_silhouette = silhouette_score(vectors_doc, cluster_doc)\n",
        "print(f\"Silhouette Score for Doc2Vec: {doc2vec_silhouette:.4f}\")\n",
        "\n",
        "# Silhouette Score for Word2Vec clusters\n",
        "word2vec_silhouette = silhouette_score(vectors_word, cluster_word)\n",
        "print(f\"Silhouette Score for Word2Vec: {word2vec_silhouette:.4f}\")\n",
        "\n",
        "\n",
        "\n",
        "#quantitative: Davies-Bouldin Index\n",
        "#lowe bdi value means cluster better defined, high means more overlap\n",
        "\n",
        "from sklearn.metrics import davies_bouldin_score\n",
        "\n",
        "# Davies-Bouldin Index for Doc2Vec clusters\n",
        "doc2vec_dbi = davies_bouldin_score(vectors_doc, cluster_doc)\n",
        "print(f\"Davies-Bouldin Index for Doc2Vec: {doc2vec_dbi:.4f}\")\n",
        "\n",
        "# Davies-Bouldin Index for Word2Vec clusters\n",
        "word2vec_dbi = davies_bouldin_score(vectors_word, cluster_word)\n",
        "print(f\"Davies-Bouldin Index for Word2Vec: {word2vec_dbi:.4f}\")\n",
        "\n",
        "\n",
        "\n",
        "#PCA (Principal Component Analysis)\n",
        "#helps visualize separation between clusters\n",
        "\n",
        "import matplotlib.pyplot as plt\n",
        "from sklearn.decomposition import PCA\n",
        "\n",
        "def plot_pca(embeddings, labels, title):\n",
        "    pca = PCA(n_components=2)\n",
        "    reduced = pca.fit_transform(embeddings)\n",
        "    plt.figure(figsize=(8, 6))\n",
        "    scatter = plt.scatter(reduced[:, 0], reduced[:, 1], c=labels, cmap='viridis', alpha=0.6)\n",
        "    plt.colorbar(scatter, label=\"Cluster\")\n",
        "    plt.title(title)\n",
        "    plt.xlabel(\"PCA Component 1\")\n",
        "    plt.ylabel(\"PCA Component 2\")\n",
        "    plt.show()\n",
        "\n",
        "# PCA Visualization for Doc2Vec\n",
        "plot_pca(vectors_doc, cluster_doc, \"PCA: Doc2Vec Clusters\")\n",
        "# PCA Visualization for Word2Vec\n",
        "plot_pca(vectors_word, cluster_word, \"PCA: Word2Vec Clusters\")\n",
        "#look at the separation, then this is qualitative\n",
        "\n",
        "\n",
        "#t-SNE (t-Distributed Stochastic Neighbor Embedding)\n",
        "#t-SNE helps visualize complex relationships in high-dimensional data\n",
        "from sklearn.manifold import TSNE\n",
        "\n",
        "def plot_tsne(embeddings, labels, title):\n",
        "    tsne = TSNE(n_components=2, random_state=42)\n",
        "    reduced = tsne.fit_transform(embeddings)\n",
        "\n",
        "    plt.figure(figsize=(8, 6))\n",
        "    scatter = plt.scatter(reduced[:, 0], reduced[:, 1], c=labels, cmap='viridis', alpha=0.6)\n",
        "    plt.colorbar(scatter, label=\"Cluster\")\n",
        "    plt.title(title)\n",
        "    plt.xlabel(\"t-SNE Component 1\")\n",
        "    plt.ylabel(\"t-SNE Component 2\")\n",
        "    plt.show()\n",
        "\n",
        "# t-SNE Visualization for Doc2Vec\n",
        "plot_tsne(doc2vec_vectors, doc2vec_clusters, \"t-SNE: Doc2Vec Clusters\")\n",
        "# t-SNE Visualization for Word2Vec\n",
        "plot_tsne(word2vec_vectors, word2vec_clusters, \"t-SNE: Word2Vec Clusters\")\n",
        "\n"
      ]
    }
  ],
  "metadata": {
    "colab": {
      "provenance": []
    },
    "kernelspec": {
      "display_name": ".venv (3.11.9)",
      "language": "python",
      "name": "python3"
    },
    "language_info": {
      "codemirror_mode": {
        "name": "ipython",
        "version": 3
      },
      "file_extension": ".py",
      "mimetype": "text/x-python",
      "name": "python",
      "nbconvert_exporter": "python",
      "pygments_lexer": "ipython3",
      "version": "3.11.9"
    }
  },
  "nbformat": 4,
  "nbformat_minor": 0
}
