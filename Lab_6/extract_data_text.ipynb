{
 "cells": [
  {
   "cell_type": "code",
   "execution_count": 1,
   "metadata": {},
   "outputs": [],
   "source": [
    "import os\n",
    "import pandas as pd\n",
    "\n",
    "# Get list of text files in the directory\n",
    "text_files = [f for f in os.listdir('processed_data/text') if f.endswith('.txt')]\n",
    "\n",
    "# Create lists to store data\n",
    "names = []\n",
    "texts = []\n",
    "\n",
    "# Read each file and store its content\n",
    "for file_name in text_files:\n",
    "    with open(os.path.join('processed_data/text', file_name), 'r', encoding='utf-8') as file:\n",
    "        names.append(file_name)\n",
    "        texts.append(file.read())\n",
    "\n",
    "# Create dataframe\n",
    "df = pd.DataFrame({\n",
    "    'Name': names,\n",
    "    'text': texts\n",
    "})"
   ]
  },
  {
   "cell_type": "code",
   "execution_count": 2,
   "metadata": {},
   "outputs": [],
   "source": [
    "import re\n",
    "from collections import defaultdict\n",
    "\n",
    "def extract_api_number(text: str) -> str:\n",
    "    if pd.isna(text):\n",
    "        return {}\n",
    "    \n",
    "    # Pattern matches exactly 2 digits, dash, 3 digits, dash, 5 digits\n",
    "    pattern = r'(\\d{2})\\s*-\\s*(\\d{3})\\s*-\\s*(\\d{5})'\n",
    "    \n",
    "    # Find all matches in the text\n",
    "    matches = re.findall(pattern, str(text))\n",
    "    \n",
    "    # Create dictionary with counts\n",
    "    api_counts = defaultdict(int)\n",
    "    for match in matches:\n",
    "        api_number = '-'.join(match)  # Join tuple elements with dashes\n",
    "        api_counts[api_number] += 1\n",
    "        \n",
    "    return dict(api_counts)\n",
    "\n",
    "def extract_most_common_api_number(api_counts: dict) -> str:\n",
    "    return max(api_counts.items(), key=lambda x: x[1])[0] if len(api_counts) > 0 else None"
   ]
  },
  {
   "cell_type": "code",
   "execution_count": 3,
   "metadata": {},
   "outputs": [
    {
     "data": {
      "text/plain": [
       "count               77\n",
       "unique              77\n",
       "top       33-053-02102\n",
       "freq                 1\n",
       "Name: api_number, dtype: object"
      ]
     },
     "execution_count": 3,
     "metadata": {},
     "output_type": "execute_result"
    }
   ],
   "source": [
    "df['all_api_number'] = df['text'].apply(extract_api_number)\n",
    "df['api_number'] = df['all_api_number'].apply(extract_most_common_api_number)\n",
    "\n",
    "df['api_number'].describe()"
   ]
  },
  {
   "cell_type": "code",
   "execution_count": 4,
   "metadata": {},
   "outputs": [],
   "source": [
    "def extract_well_name(text: str) -> str:\n",
    "    if pd.isna(text):\n",
    "        return ''\n",
    "    \n",
    "    # Multiple patterns for Well Names\n",
    "    patterns = [\n",
    "        # Standard Well Name pattern\n",
    "        r'(?:Well Name:|Well Name|WELL NAME:?)\\s*([A-Za-z0-9\\s\\-&#]+)(?:\\n|$)',\n",
    "        # Well Name and Number pattern\n",
    "        r'(?:Well Name and Number|WELL NAME AND NUMBER:?)\\n([A-Za-z0-9\\s\\-&#]+)'\n",
    "    ]\n",
    "    \n",
    "    # Create dictionary with counts\n",
    "    well_counts = defaultdict(int)\n",
    "    \n",
    "    for pattern in patterns:\n",
    "        matches = re.findall(pattern, str(text), re.IGNORECASE)\n",
    "        for match in matches:\n",
    "            # Clean up the well name by removing trailing numbers and special characters\n",
    "            well_name = re.sub(r'\\s+\\d+-\\d+[A-Z]?H?$', '', match.strip())\n",
    "            if 'and number' in well_name.lower() or 'county & state' in well_name.lower():\n",
    "                continue\n",
    "            if well_name:  # Ignore empty matches\n",
    "                well_counts[well_name] += 1\n",
    "    \n",
    "    return dict(well_counts)\n",
    "\n",
    "def extract_most_common_well_name(well_counts: dict) -> str:\n",
    "    if max(well_counts.values()) == 1:\n",
    "        return max(well_counts.items(), key=lambda x: len(x[0]))[0] if well_counts else ''\n",
    "    return max(well_counts.items(), key=lambda x: x[1])[0] if well_counts else ''\n"
   ]
  },
  {
   "cell_type": "code",
   "execution_count": 5,
   "metadata": {},
   "outputs": [
    {
     "data": {
      "text/plain": [
       "count          77\n",
       "unique         64\n",
       "top       Atlanta\n",
       "freq            6\n",
       "Name: well_name, dtype: object"
      ]
     },
     "execution_count": 5,
     "metadata": {},
     "output_type": "execute_result"
    }
   ],
   "source": [
    "df['all_well_name'] = df['text'].apply(extract_well_name)\n",
    "df['well_name'] = df['all_well_name'].apply(extract_most_common_api_number)\n",
    "df['well_name'].describe()"
   ]
  },
  {
   "cell_type": "code",
   "execution_count": 6,
   "metadata": {},
   "outputs": [],
   "source": [
    "def extract_coordinates(text: str) -> dict:\n",
    "    \"\"\"\n",
    "    Extracts coordinates from formats:\n",
    "    - N48° 47' 06.83\" | W103° 37' 36.52\"\n",
    "    - N48 6 44.8812 | W103 4 16.1923\n",
    "    - Latitude: 48° 2' 49.420 N\n",
    "    \"\"\"\n",
    "    if pd.isna(text):\n",
    "        return {'latitude': {}, 'longitude': {}}\n",
    "    \n",
    "    patterns = [\n",
    "        # Format with pipe separator\n",
    "        r'[N](\\d+)\\s*[°\\s]+(\\d+)\\s*[\\'|\\s]+(\\d+\\.?\\d*)[\\\"|\\s]*\\|[^\\S\\r\\n]*[W](\\d+)\\s*[°\\s]+(\\d+)\\s*[\\'|\\s]+(\\d+\\.?\\d*)',\n",
    "        \n",
    "        # Split format with degrees symbol\n",
    "        r'(?:Latitude|LAT)[:\\s]*(\\d+)°\\s*(\\d+)\\'\\s*(\\d+\\.?\\d*)\\s*[N][\\s\\S]*?(?:Longitude|LONG)[:\\s]*(\\d+)°\\s*(\\d+)\\'\\s*(\\d+\\.?\\d*)\\s*[W]',\n",
    "        \n",
    "        # Format without symbols\n",
    "        r'[N](\\d+)\\s+(\\d+)\\s+(\\d+\\.?\\d*)\\s*\\|[^\\S\\r\\n]*[W](\\d+)\\s+(\\d+)\\s+(\\d+\\.?\\d*)',\n",
    "        \n",
    "        # Individual lat/long lines\n",
    "        r'(?:Site\\s+Centre\\s+)?(?:Latitude|LAT)[:\\s]*(\\d+)°\\s*(\\d+)\\'\\s*(\\d+\\.?\\d*)\\s*[N]',\n",
    "        r'(?:Longitude|LONG)[:\\s]*(\\d+)°\\s*(\\d+)\\'\\s*(\\d+\\.?\\d*)\\s*[W]'\n",
    "    ]\n",
    "    \n",
    "    lat_counts = defaultdict(int)\n",
    "    long_counts = defaultdict(int)\n",
    "    \n",
    "    def dms_to_decimal(degrees, minutes, seconds):\n",
    "        try:\n",
    "            return float(degrees) + float(minutes)/60 + float(seconds)/3600\n",
    "        except (ValueError, TypeError):\n",
    "            return None\n",
    "    \n",
    "    for pattern in patterns:\n",
    "        matches = re.findall(pattern, str(text), re.IGNORECASE | re.MULTILINE)\n",
    "        for match in matches:\n",
    "            try:\n",
    "                if len(match) == 6:  # Complete coordinate pair\n",
    "                    lat_val = dms_to_decimal(match[0], match[1], match[2])\n",
    "                    long_val = -dms_to_decimal(match[3], match[4], match[5])\n",
    "                elif len(match) == 3:  # Individual coordinate\n",
    "                    if 'latitude' in pattern.lower():\n",
    "                        lat_val = dms_to_decimal(match[0], match[1], match[2])\n",
    "                        continue\n",
    "                    else:\n",
    "                        long_val = -dms_to_decimal(match[0], match[1], match[2])\n",
    "                        continue\n",
    "                \n",
    "                if lat_val is not None and long_val is not None:\n",
    "                    if -90 <= lat_val <= 90 and -180 <= long_val <= 180:\n",
    "                        lat_counts[f\"{lat_val:.6f}\"] += 1\n",
    "                        long_counts[f\"{long_val:.6f}\"] += 1\n",
    "            except (ValueError, TypeError, IndexError):\n",
    "                continue\n",
    "    \n",
    "    return {\n",
    "        'latitude': dict(lat_counts),\n",
    "        'longitude': dict(long_counts)\n",
    "    }"
   ]
  },
  {
   "cell_type": "code",
   "execution_count": 7,
   "metadata": {},
   "outputs": [
    {
     "data": {
      "text/plain": [
       "count                                    77\n",
       "unique                                   58\n",
       "top       {'latitude': {}, 'longitude': {}}\n",
       "freq                                     20\n",
       "Name: coordinates, dtype: object"
      ]
     },
     "execution_count": 7,
     "metadata": {},
     "output_type": "execute_result"
    }
   ],
   "source": [
    "df['coordinates'] = df['text'].apply(extract_coordinates)\n",
    "# df['coordinates'] = df['all_coordinates'].apply(extract_most_common_coordinates)\n",
    "df['coordinates'].describe()"
   ]
  },
  {
   "cell_type": "code",
   "execution_count": null,
   "metadata": {},
   "outputs": [
    {
     "name": "stdout",
     "output_type": "stream",
     "text": [
      "Starting database write for 77 records...\n",
      "Database write completed in 21.45 seconds\n"
     ]
    }
   ],
   "source": [
    "import mysql\n",
    "import mysql.connector\n",
    "from secrets_import import * \n",
    "\n",
    "def write_to_database(df, batch_size=1000):\n",
    "    conn = mysql.connector.connect(\n",
    "        host=MYSQL_HOST,\n",
    "        user=MYSQL_USER,\n",
    "        password=MYSQL_PASSWORD,\n",
    "        database=MYSQL_DB,\n",
    "        # Add connection pooling and optimization parameters\n",
    "        pool_size=5,\n",
    "        pool_name=\"mypool\",\n",
    "        buffered=True\n",
    "    )\n",
    "    \n",
    "    cursor = conn.cursor()\n",
    "    \n",
    "    try:\n",
    "        values = []\n",
    "        for index, row in df.iterrows():\n",
    "            values.append((\n",
    "                row['api_number'],\n",
    "                row['well_name'],\n",
    "                str(row['coordinates']['latitude']),\n",
    "                str(row['coordinates']['longitude']),\n",
    "                ''  # address\n",
    "            ))\n",
    "            \n",
    "            \n",
    "            if len(values) >= batch_size:\n",
    "                cursor.executemany(\n",
    "                    \"\"\"INSERT INTO oil_wells_information \n",
    "                       (api_number, well_name, latitude, longitude, address) \n",
    "                       VALUES (%s, %s, %s, %s, %s)\"\"\",\n",
    "                    values\n",
    "                )\n",
    "                conn.commit()\n",
    "                values = []\n",
    "        \n",
    "        \n",
    "        if values:\n",
    "            cursor.executemany(\n",
    "                \"\"\"INSERT INTO oil_wells_information \n",
    "                   (api_number, well_name, latitude, longitude, address) \n",
    "                   VALUES (%s, %s, %s, %s, %s)\"\"\",\n",
    "                values\n",
    "            )\n",
    "            conn.commit()\n",
    "            \n",
    "    except mysql.connector.Error as error:\n",
    "        print(f\"Failed to insert records into MySQL table: {error}\")\n",
    "        conn.rollback()\n",
    "        \n",
    "    finally:\n",
    "        cursor.close()\n",
    "        conn.close()\n",
    "\n",
    "\n",
    "import time\n",
    "\n",
    "start_time = time.time()\n",
    "print(f\"Starting database write for {len(df)} records...\")\n",
    "\n",
    "write_to_database(df)\n",
    "\n",
    "end_time = time.time()\n",
    "print(f\"Database write completed in {end_time - start_time:.2f} seconds\")\n"
   ]
  }
 ],
 "metadata": {
  "kernelspec": {
   "display_name": ".venv",
   "language": "python",
   "name": "python3"
  },
  "language_info": {
   "codemirror_mode": {
    "name": "ipython",
    "version": 3
   },
   "file_extension": ".py",
   "mimetype": "text/x-python",
   "name": "python",
   "nbconvert_exporter": "python",
   "pygments_lexer": "ipython3",
   "version": "3.13.0"
  }
 },
 "nbformat": 4,
 "nbformat_minor": 2
}
