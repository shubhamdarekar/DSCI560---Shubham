{
 "cells": [
  {
   "cell_type": "code",
   "execution_count": 7,
   "metadata": {},
   "outputs": [
    {
     "name": "stdout",
     "output_type": "stream",
     "text": [
      "<class 'pandas.core.frame.DataFrame'>\n",
      "RangeIndex: 17940 entries, 0 to 17939\n",
      "Data columns (total 12 columns):\n",
      " #   Column              Non-Null Count  Dtype  \n",
      "---  ------              --------------  -----  \n",
      " 0   id                  17940 non-null  int64  \n",
      " 1   stock_id            17940 non-null  int64  \n",
      " 2   collected_interval  17940 non-null  object \n",
      " 3   date                17940 non-null  object \n",
      " 4   open_price          17940 non-null  float64\n",
      " 5   high_price          17940 non-null  float64\n",
      " 6   low_price           17940 non-null  float64\n",
      " 7   close_price         17940 non-null  float64\n",
      " 8   volume              17940 non-null  int64  \n",
      " 9   dividend_amount     17940 non-null  float64\n",
      " 10  stock_split         17940 non-null  float64\n",
      " 11  insertion_time      17940 non-null  object \n",
      "dtypes: float64(6), int64(3), object(3)\n",
      "memory usage: 1.6+ MB\n"
     ]
    },
    {
     "data": {
      "text/plain": [
       "(None,\n",
       "    id  stock_id collected_interval        date  open_price  high_price  \\\n",
       " 0   1         1                 1d  2024-01-31      186.13      186.19   \n",
       " 1   2         1                 1d  2024-02-01      183.09      186.04   \n",
       " 2   3         1                 1d  2024-02-02      178.98      186.42   \n",
       " 3   4         1                 1d  2024-02-05      187.23      188.33   \n",
       " 4   5         1                 1d  2024-02-06      185.95      188.39   \n",
       " \n",
       "    low_price  close_price     volume  dividend_amount  stock_split  \\\n",
       " 0     183.45       183.50   55467800              0.0          0.0   \n",
       " 1     182.92       185.95   64885400              0.0          0.0   \n",
       " 2     178.38       184.94  102518000              0.0          0.0   \n",
       " 3     184.93       186.77   69668800              0.0          0.0   \n",
       " 4     185.86       188.38   43490800              0.0          0.0   \n",
       " \n",
       "         insertion_time  \n",
       " 0  2025-01-31 09:40:31  \n",
       " 1  2025-01-31 09:40:31  \n",
       " 2  2025-01-31 09:40:31  \n",
       " 3  2025-01-31 09:40:31  \n",
       " 4  2025-01-31 09:40:31  )"
      ]
     },
     "execution_count": 7,
     "metadata": {},
     "output_type": "execute_result"
    }
   ],
   "source": [
    "import pandas as pd\n",
    "file_path = \"/Users/liuyuxuan/usc-ds560-25sp/lab3/raw_data/stock_history.csv\"\n",
    "df = pd.read_csv(file_path)\n",
    "df.info(), df.head()"
   ]
  },
  {
   "cell_type": "code",
   "execution_count": 8,
   "metadata": {},
   "outputs": [
    {
     "name": "stdout",
     "output_type": "stream",
     "text": [
      "Missing values before filling:\n",
      " id                    0\n",
      "stock_id              0\n",
      "collected_interval    0\n",
      "date                  0\n",
      "open_price            0\n",
      "high_price            0\n",
      "low_price             0\n",
      "close_price           0\n",
      "volume                0\n",
      "dividend_amount       0\n",
      "stock_split           0\n",
      "insertion_time        0\n",
      "dtype: int64\n",
      "Processed stock data saved to: /Users/liuyuxuan/usc-ds560-25sp/lab3/processed_data/processed_stock_history.csv\n"
     ]
    },
    {
     "name": "stderr",
     "output_type": "stream",
     "text": [
      "/var/folders/2w/fwzncnms3ql_w80rrdmjzw0c0000gn/T/ipykernel_40193/1365743532.py:16: FutureWarning: DataFrame.fillna with 'method' is deprecated and will raise in a future version. Use obj.ffill() or obj.bfill() instead.\n",
      "  df.fillna(method='ffill', inplace=True)  # Forward fill missing values\n",
      "/var/folders/2w/fwzncnms3ql_w80rrdmjzw0c0000gn/T/ipykernel_40193/1365743532.py:17: FutureWarning: DataFrame.fillna with 'method' is deprecated and will raise in a future version. Use obj.ffill() or obj.bfill() instead.\n",
      "  df.fillna(method='bfill', inplace=True)  # Backward fill missing values\n"
     ]
    }
   ],
   "source": [
    "import pandas as pd\n",
    "import numpy as np\n",
    "\n",
    "file_path = \"/Users/liuyuxuan/usc-ds560-25sp/lab3/raw_data/stock_history.csv\"\n",
    "df = pd.read_csv(file_path)\n",
    "\n",
    "# Convert 'date' column to datetime format\n",
    "df['date'] = pd.to_datetime(df['date'])\n",
    "df = df.sort_values(by=['stock_id', 'date']).reset_index(drop=True)\n",
    "\n",
    "# Handle missing values\n",
    "print(\"Missing values before filling:\\n\", df.isnull().sum())\n",
    "df.fillna(method='ffill', inplace=True)  # Forward fill\n",
    "df.fillna(method='bfill', inplace=True)  # Backward fill\n",
    "df.dropna(inplace=True)  # Remove NaN\n",
    "\n",
    "# Calculate daily returns (percentage change in close price)\n",
    "df['daily_return'] = df.groupby('stock_id')['close_price'].pct_change()\n",
    "\n",
    "# Compute log returns to handle extreme price variations\n",
    "df['log_return'] = df.groupby('stock_id')['close_price'].transform(lambda x: np.log(x / x.shift(1)))\n",
    "\n",
    "# Compute 5-day and 20-day moving averages\n",
    "df['moving_avg_5d'] = df.groupby('stock_id')['close_price'].transform(lambda x: x.rolling(window=5).mean())\n",
    "df['moving_avg_20d'] = df.groupby('stock_id')['close_price'].transform(lambda x: x.rolling(window=20).mean())\n",
    "\n",
    "# Compute rolling volatility (5-day standard deviation of daily returns)\n",
    "df['volatility_5d'] = df.groupby('stock_id')['daily_return'].transform(lambda x: x.rolling(window=5).std())\n",
    "\n",
    "# Compute cumulative return (total return over time for each stock)\n",
    "df['cumulative_return'] = df.groupby('stock_id')['daily_return'].cumsum()\n",
    "\n",
    "# Compute volume change percentage\n",
    "if 'volume' in df.columns:\n",
    "    df['volume_change'] = df.groupby('stock_id')['volume'].pct_change()\n",
    "\n",
    "df = df[df['close_price'] > 0]\n",
    "\n",
    "output_path = \"/Users/liuyuxuan/usc-ds560-25sp/lab3/processed_data/processed_stock_history.csv\"\n",
    "df.to_csv(output_path, index=False)\n",
    "print(\"Processed stock data saved to:\", output_path)"
   ]
  }
 ],
 "metadata": {
  "kernelspec": {
   "display_name": "Python 3",
   "language": "python",
   "name": "python3"
  },
  "language_info": {
   "codemirror_mode": {
    "name": "ipython",
    "version": 3
   },
   "file_extension": ".py",
   "mimetype": "text/x-python",
   "name": "python",
   "nbconvert_exporter": "python",
   "pygments_lexer": "ipython3",
   "version": "3.9.6"
  }
 },
 "nbformat": 4,
 "nbformat_minor": 2
}
